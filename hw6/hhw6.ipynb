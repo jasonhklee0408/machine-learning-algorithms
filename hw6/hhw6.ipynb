{
 "cells": [
  {
   "cell_type": "code",
   "execution_count": 89,
   "metadata": {},
   "outputs": [],
   "source": [
    "import numpy as np\n",
    "import pandas as pd\n",
    "from sklearn.linear_model import LogisticRegression\n",
    "from sklearn.model_selection import train_test_split\n",
    "import matplotlib.pyplot as plt\n",
    "from matplotlib.colors import ListedColormap\n",
    "from sklearn.linear_model import Perceptron\n",
    "from sklearn import svm\n",
    "import math"
   ]
  },
  {
   "cell_type": "code",
   "execution_count": 39,
   "metadata": {},
   "outputs": [],
   "source": [
    "from sklearn import datasets\n",
    "iris = datasets.load_iris()\n",
    "x = iris.data\n",
    "y = iris.target\n",
    "x = x[:, [1,3]]\n",
    "y[y == 0] = -1\n",
    "x = x[0:np.where(y == 2)[0][0]]\n",
    "y = np.delete(y, np.where(y == 2))\n"
   ]
  },
  {
   "cell_type": "code",
   "execution_count": 26,
   "metadata": {},
   "outputs": [],
   "source": [
    "#7a\n",
    "def label_return(w,b,x):\n",
    "    num = np.dot(w,x) + b\n",
    "    return np.sign(num)\n",
    "\n",
    "def perceptron(data, labels):\n",
    "    np.random.seed(42)\n",
    "    shuffled = np.random.choice(100, len(data), replace = False)\n",
    "    data = data[shuffled]\n",
    "    labels = labels[shuffled]\n",
    "    w = np.zeros(len(data[0]))\n",
    "    b = 0\n",
    "    while True:\n",
    "        predicted = []\n",
    "        for i in range(len(labels)):\n",
    "            xi = data[i]\n",
    "            yi = labels[i]\n",
    "            predict = label_return(w,b,xi)\n",
    "            predicted.append(np.sign(yi * (np.dot(w,xi)+b)))\n",
    "            if predict != yi:\n",
    "                w = w + (yi*xi)\n",
    "                b = b + yi\n",
    "        print([w,b])\n",
    "        if sum(predicted) == len(predicted):\n",
    "            break\n",
    "\n",
    "\n",
    "\n",
    "    return [w,b]\n",
    "    "
   ]
  },
  {
   "cell_type": "code",
   "execution_count": 27,
   "metadata": {},
   "outputs": [
    {
     "name": "stdout",
     "output_type": "stream",
     "text": [
      "[array([-0.3,  1.3]), 0]\n",
      "[array([-0.3,  1.3]), 0]\n"
     ]
    },
    {
     "data": {
      "text/plain": [
       "[array([-0.3,  1.3]), 0]"
      ]
     },
     "execution_count": 27,
     "metadata": {},
     "output_type": "execute_result"
    }
   ],
   "source": [
    "perceptron(x,y)"
   ]
  },
  {
   "cell_type": "code",
   "execution_count": 20,
   "metadata": {},
   "outputs": [
    {
     "name": "stderr",
     "output_type": "stream",
     "text": [
      "*c* argument looks like a single numeric RGB or RGBA sequence, which should be avoided as value-mapping will have precedence in case its length matches with *x* & *y*.  Please use the *color* keyword-argument or provide a 2D array with a single row if you intend to specify the same RGB or RGBA value for all points.\n",
      "*c* argument looks like a single numeric RGB or RGBA sequence, which should be avoided as value-mapping will have precedence in case its length matches with *x* & *y*.  Please use the *color* keyword-argument or provide a 2D array with a single row if you intend to specify the same RGB or RGBA value for all points.\n"
     ]
    },
    {
     "data": {
      "image/png": "[encoded data removed]",
      "text/plain": [
       "<Figure size 640x480 with 1 Axes>"
      ]
     },
     "metadata": {},
     "output_type": "display_data"
    }
   ],
   "source": [
    "#7c\n",
    "classifier = Perceptron()\n",
    "classifier.fit(x, y)\n",
    "def plot_decision_regions(x, y):\n",
    "    resolution = 0.001\n",
    "    \n",
    "    # define a set of markers\n",
    "    markers = ('o', 'x')\n",
    "    # define available colors\n",
    "    cmap = ListedColormap(('red', 'blue'))\n",
    "    \n",
    "    # select a range of x containing the scaled test set\n",
    "    x1_min, x1_max = x[:, 0].min() - 0.5, x[:, 0].max() + 0.5\n",
    "    x2_min, x2_max = x[:, 1].min() - 0.5, x[:, 1].max() + 0.5\n",
    "    \n",
    "    # create a grid of values to test the classifier on\n",
    "    xx1, xx2 = np.meshgrid(np.arange(x1_min, x1_max, resolution),\n",
    "                           np.arange(x2_min, x2_max, resolution))\n",
    "    \n",
    "    Z = classifier.predict(np.array([xx1.ravel(), xx2.ravel()]).T)\n",
    "    Z = Z.reshape(xx1.shape)\n",
    "    \n",
    "    # plot the decision region...\n",
    "    plt.contourf(xx1, xx2, Z, alpha=0.4, cmap=cmap)\n",
    "    plt.xlim(xx1.min(), xx1.max())\n",
    "    plt.ylim(xx2.min(), xx2.max())\n",
    "    \n",
    "    # ...and the points from the test set\n",
    "    for idx, c1 in enumerate(np.unique(y)):\n",
    "        plt.scatter(x=x[y == c1, 0],\n",
    "                    y=x[y == c1, 1], \n",
    "                    alpha=0.8, \n",
    "                    c=cmap(idx), \n",
    "                    marker=markers[idx], \n",
    "                    label=c1)\n",
    "    plt.show()\n",
    "\n",
    "plot_decision_regions(x,y)\n"
   ]
  },
  {
   "cell_type": "code",
   "execution_count": 37,
   "metadata": {},
   "outputs": [
    {
     "name": "stdout",
     "output_type": "stream",
     "text": [
      "[array([-0.3,  1.3]), 0]\n",
      "[array([-0.3,  1.3]), 0]\n",
      "[array([-0.3,  1.3]), 0]\n",
      "[array([-0.3,  1.3]), 0]\n",
      "[array([-0.3,  1.3]), 0]\n",
      "[array([-0.3,  1.3]), 0]\n",
      "[array([-0.3,  1.3]), 0]\n",
      "[array([-0.3,  1.3]), 0]\n",
      "[array([-0.3,  1.3]), 0]\n",
      "[array([-0.3,  1.3]), 0]\n",
      "[array([-0.3,  1.3]), 0]\n",
      "[array([-0.3,  1.3]), 0]\n",
      "[array([-0.3,  1.3]), 0]\n",
      "[array([-0.3,  1.3]), 0]\n",
      "[array([-0.3,  1.3]), 0]\n",
      "[array([-0.3,  1.3]), 0]\n",
      "[array([-0.3,  1.3]), 0]\n",
      "[array([-0.3,  1.3]), 0]\n",
      "[array([-0.3,  1.3]), 0]\n",
      "[array([-0.3,  1.3]), 0]\n",
      "[array([-0.3,  1.3]), 0]\n",
      "[array([-0.3,  1.3]), 0]\n",
      "[array([-0.3,  1.3]), 0]\n",
      "[array([-0.3,  1.3]), 0]\n",
      "[array([-0.3,  1.3]), 0]\n",
      "[array([-0.3,  1.3]), 0]\n",
      "[array([-0.3,  1.3]), 0]\n",
      "[array([-0.3,  1.3]), 0]\n",
      "[array([-0.3,  1.3]), 0]\n",
      "[array([-0.3,  1.3]), 0]\n",
      "[array([-0.3,  1.3]), 0]\n",
      "[array([-0.3,  1.3]), 0]\n",
      "[array([-0.3,  1.3]), 0]\n",
      "[array([-0.3,  1.3]), 0]\n",
      "[array([-0.3,  1.3]), 0]\n",
      "[array([-0.3,  1.3]), 0]\n",
      "[array([-0.3,  1.3]), 0]\n",
      "[array([-0.3,  1.3]), 0]\n",
      "[array([-0.3,  1.3]), 0]\n",
      "[array([-0.3,  1.3]), 0]\n"
     ]
    },
    {
     "data": {
      "text/plain": [
       "(array([ 0.,  0.,  0.,  0.,  0., 20.,  0.,  0.,  0.,  0.]),\n",
       " array([1.5, 1.6, 1.7, 1.8, 1.9, 2. , 2.1, 2.2, 2.3, 2.4, 2.5]),\n",
       " <BarContainer object of 10 artists>)"
      ]
     },
     "execution_count": 37,
     "metadata": {},
     "output_type": "execute_result"
    },
    {
     "data": {
      "image/png": "[encoded data removed]",
      "text/plain": [
       "<Figure size 640x480 with 1 Axes>"
      ]
     },
     "metadata": {},
     "output_type": "display_data"
    }
   ],
   "source": [
    "#7d\n",
    "def perceptron7d(data, labels):\n",
    "    np.random.seed(42)\n",
    "    shuffled = np.random.choice(100, len(data), replace = False)\n",
    "    data = data[shuffled]\n",
    "    labels = labels[shuffled]\n",
    "    w = np.zeros(len(data[0]))\n",
    "    b = 0\n",
    "    updates = []\n",
    "    while True:\n",
    "        predicted = []\n",
    "        errors = 0\n",
    "        for i in range(len(labels)):\n",
    "            xi = data[i]\n",
    "            yi = labels[i]\n",
    "            predict = label_return(w,b,xi)\n",
    "            predicted.append(np.sign(yi * (np.dot(w,xi)+b)))\n",
    "            if predict != yi:\n",
    "                w = w + (yi*xi)\n",
    "                b = b + yi\n",
    "                errors = errors + 1\n",
    "        print([w,b])\n",
    "        updates.append(errors)\n",
    "        if sum(predicted) == len(predicted):\n",
    "            break\n",
    "\n",
    "\n",
    "\n",
    "    return sum(updates)\n",
    "\n",
    "updates_list = []    \n",
    "for j in list(range(20)):\n",
    "    updates_list.append(perceptron7d(x, y))\n",
    "plt.hist(updates_list)"
   ]
  },
  {
   "cell_type": "code",
   "execution_count": 140,
   "metadata": {},
   "outputs": [
    {
     "data": {
      "text/plain": [
       "array([[7. , 4.7],\n",
       "       [6.4, 4.5],\n",
       "       [6.9, 4.9],\n",
       "       [5.5, 4. ],\n",
       "       [6.5, 4.6],\n",
       "       [5.7, 4.5],\n",
       "       [6.3, 4.7],\n",
       "       [4.9, 3.3],\n",
       "       [6.6, 4.6],\n",
       "       [5.2, 3.9],\n",
       "       [5. , 3.5],\n",
       "       [5.9, 4.2],\n",
       "       [6. , 4. ],\n",
       "       [6.1, 4.7],\n",
       "       [5.6, 3.6],\n",
       "       [6.7, 4.4],\n",
       "       [5.6, 4.5],\n",
       "       [5.8, 4.1],\n",
       "       [6.2, 4.5],\n",
       "       [5.6, 3.9],\n",
       "       [5.9, 4.8],\n",
       "       [6.1, 4. ],\n",
       "       [6.3, 4.9],\n",
       "       [6.1, 4.7],\n",
       "       [6.4, 4.3],\n",
       "       [6.6, 4.4],\n",
       "       [6.8, 4.8],\n",
       "       [6.7, 5. ],\n",
       "       [6. , 4.5],\n",
       "       [5.7, 3.5],\n",
       "       [5.5, 3.8],\n",
       "       [5.5, 3.7],\n",
       "       [5.8, 3.9],\n",
       "       [6. , 5.1],\n",
       "       [5.4, 4.5],\n",
       "       [6. , 4.5],\n",
       "       [6.7, 4.7],\n",
       "       [6.3, 4.4],\n",
       "       [5.6, 4.1],\n",
       "       [5.5, 4. ],\n",
       "       [5.5, 4.4],\n",
       "       [6.1, 4.6],\n",
       "       [5.8, 4. ],\n",
       "       [5. , 3.3],\n",
       "       [5.6, 4.2],\n",
       "       [5.7, 4.2],\n",
       "       [5.7, 4.2],\n",
       "       [6.2, 4.3],\n",
       "       [5.1, 3. ],\n",
       "       [5.7, 4.1],\n",
       "       [6.3, 6. ],\n",
       "       [5.8, 5.1],\n",
       "       [7.1, 5.9],\n",
       "       [6.3, 5.6],\n",
       "       [6.5, 5.8],\n",
       "       [7.6, 6.6],\n",
       "       [4.9, 4.5],\n",
       "       [7.3, 6.3],\n",
       "       [6.7, 5.8],\n",
       "       [7.2, 6.1],\n",
       "       [6.5, 5.1],\n",
       "       [6.4, 5.3],\n",
       "       [6.8, 5.5],\n",
       "       [5.7, 5. ],\n",
       "       [5.8, 5.1],\n",
       "       [6.4, 5.3],\n",
       "       [6.5, 5.5],\n",
       "       [7.7, 6.7],\n",
       "       [7.7, 6.9],\n",
       "       [6. , 5. ],\n",
       "       [6.9, 5.7],\n",
       "       [5.6, 4.9],\n",
       "       [7.7, 6.7],\n",
       "       [6.3, 4.9],\n",
       "       [6.7, 5.7],\n",
       "       [7.2, 6. ],\n",
       "       [6.2, 4.8],\n",
       "       [6.1, 4.9],\n",
       "       [6.4, 5.6],\n",
       "       [7.2, 5.8],\n",
       "       [7.4, 6.1],\n",
       "       [7.9, 6.4],\n",
       "       [6.4, 5.6],\n",
       "       [6.3, 5.1],\n",
       "       [6.1, 5.6],\n",
       "       [7.7, 6.1],\n",
       "       [6.3, 5.6],\n",
       "       [6.4, 5.5],\n",
       "       [6. , 4.8],\n",
       "       [6.9, 5.4],\n",
       "       [6.7, 5.6],\n",
       "       [6.9, 5.1],\n",
       "       [5.8, 5.1],\n",
       "       [6.8, 5.9],\n",
       "       [6.7, 5.7],\n",
       "       [6.7, 5.2],\n",
       "       [6.3, 5. ],\n",
       "       [6.5, 5.2],\n",
       "       [6.2, 5.4],\n",
       "       [5.9, 5.1]])"
      ]
     },
     "execution_count": 140,
     "metadata": {},
     "output_type": "execute_result"
    }
   ],
   "source": [
    "#8\n",
    "x = iris.data\n",
    "y = iris.target\n",
    "x = x[:, [0,2]]\n",
    "x = x[np.where(y != 0)]\n",
    "y = y[np.where(y != 0)]\n",
    "x"
   ]
  },
  {
   "cell_type": "code",
   "execution_count": 128,
   "metadata": {},
   "outputs": [
    {
     "data": {
      "text/plain": [
       "array([[-2.1029357 ,  7.78514601]])"
      ]
     },
     "execution_count": 128,
     "metadata": {},
     "output_type": "execute_result"
    }
   ],
   "source": [
    "#8a\n",
    "clf = svm.SVC(kernel='linear', C = math.exp(10))\n",
    "clf.fit(x, y)\n",
    "pred = clf.predict(x)\n",
    "clf.coef_\n",
    "\n",
    "#yes linear separable\n"
   ]
  },
  {
   "cell_type": "code",
   "execution_count": 129,
   "metadata": {},
   "outputs": [
    {
     "data": {
      "text/html": [
       "<div>\n",
       "<style scoped>\n",
       "    .dataframe tbody tr th:only-of-type {\n",
       "        vertical-align: middle;\n",
       "    }\n",
       "\n",
       "    .dataframe tbody tr th {\n",
       "        vertical-align: top;\n",
       "    }\n",
       "\n",
       "    .dataframe thead th {\n",
       "        text-align: right;\n",
       "    }\n",
       "</style>\n",
       "<table border=\"1\" class=\"dataframe\">\n",
       "  <thead>\n",
       "    <tr style=\"text-align: right;\">\n",
       "      <th></th>\n",
       "      <th>C</th>\n",
       "      <th>training error</th>\n",
       "      <th># of Support Vectors</th>\n",
       "    </tr>\n",
       "  </thead>\n",
       "  <tbody>\n",
       "    <tr>\n",
       "      <th>0</th>\n",
       "      <td>0.001</td>\n",
       "      <td>0.17</td>\n",
       "      <td>100</td>\n",
       "    </tr>\n",
       "    <tr>\n",
       "      <th>1</th>\n",
       "      <td>0.010</td>\n",
       "      <td>0.16</td>\n",
       "      <td>92</td>\n",
       "    </tr>\n",
       "    <tr>\n",
       "      <th>2</th>\n",
       "      <td>0.100</td>\n",
       "      <td>0.07</td>\n",
       "      <td>56</td>\n",
       "    </tr>\n",
       "    <tr>\n",
       "      <th>3</th>\n",
       "      <td>1.000</td>\n",
       "      <td>0.07</td>\n",
       "      <td>31</td>\n",
       "    </tr>\n",
       "    <tr>\n",
       "      <th>4</th>\n",
       "      <td>10.000</td>\n",
       "      <td>0.05</td>\n",
       "      <td>18</td>\n",
       "    </tr>\n",
       "    <tr>\n",
       "      <th>5</th>\n",
       "      <td>100.000</td>\n",
       "      <td>0.05</td>\n",
       "      <td>14</td>\n",
       "    </tr>\n",
       "    <tr>\n",
       "      <th>6</th>\n",
       "      <td>1000.000</td>\n",
       "      <td>0.05</td>\n",
       "      <td>14</td>\n",
       "    </tr>\n",
       "    <tr>\n",
       "      <th>7</th>\n",
       "      <td>10000.000</td>\n",
       "      <td>0.05</td>\n",
       "      <td>14</td>\n",
       "    </tr>\n",
       "    <tr>\n",
       "      <th>8</th>\n",
       "      <td>100000.000</td>\n",
       "      <td>0.06</td>\n",
       "      <td>14</td>\n",
       "    </tr>\n",
       "    <tr>\n",
       "      <th>9</th>\n",
       "      <td>1000000.000</td>\n",
       "      <td>0.07</td>\n",
       "      <td>13</td>\n",
       "    </tr>\n",
       "  </tbody>\n",
       "</table>\n",
       "</div>"
      ],
      "text/plain": [
       "             C  training error  # of Support Vectors\n",
       "0        0.001            0.17                   100\n",
       "1        0.010            0.16                    92\n",
       "2        0.100            0.07                    56\n",
       "3        1.000            0.07                    31\n",
       "4       10.000            0.05                    18\n",
       "5      100.000            0.05                    14\n",
       "6     1000.000            0.05                    14\n",
       "7    10000.000            0.05                    14\n",
       "8   100000.000            0.06                    14\n",
       "9  1000000.000            0.07                    13"
      ]
     },
     "execution_count": 129,
     "metadata": {},
     "output_type": "execute_result"
    }
   ],
   "source": [
    "#8b\n",
    "c_val = [0.001,0.01,0.1,1,10,100,1000,10000,100000,1000000]\n",
    "error = []\n",
    "sv = []\n",
    "for i in c_val:\n",
    "    clf = svm.SVC(kernel='linear', C = i)\n",
    "    error.append(1-clf.fit(x, y).score(x,y))\n",
    "    sv.append(len(clf.support_vectors_))\n",
    "res = pd.DataFrame()\n",
    "res['C'] = c_val\n",
    "res['training error'] = error\n",
    "res['# of Support Vectors'] = sv\n",
    "res"
   ]
  },
  {
   "cell_type": "code",
   "execution_count": 142,
   "metadata": {},
   "outputs": [
    {
     "data": {
      "image/png": "[encoded data removed]",
      "text/plain": [
       "<Figure size 640x480 with 1 Axes>"
      ]
     },
     "metadata": {},
     "output_type": "display_data"
    }
   ],
   "source": [
    "#8c \n",
    "C = 100\n",
    "clf = svm.SVC(kernel='linear', C = 100).fit(x,y)\n",
    "sv = np.zeros(100,dtype=bool)\n",
    "sv[clf.support_] = True\n",
    "notsv = np.logical_not(sv)\n",
    "\n",
    "delta = 0.005\n",
    "x_min, x_max = min(x[:,0]), max(x[:,0])\n",
    "y_min, y_max = min(x[:,1]), max(x[:,1])\n",
    "xx, yy = np.meshgrid(np.arange(x_min, x_max, delta), np.arange(y_min, y_max, delta))\n",
    "Z = clf.decision_function(np.c_[xx.ravel(), yy.ravel()])\n",
    "for i in range(len(Z)):\n",
    "    Z[i] = min(Z[i],1.0)\n",
    "    Z[i] = max(Z[i],-1.0)\n",
    "    if (Z[i] > 0.0) and (Z[i] < 1.0):\n",
    "        Z[i] = 0.5\n",
    "    if (Z[i] < 0.0) and (Z[i] > -1.0):\n",
    "        Z[i] = -0.5\n",
    "# Put the result into a color plot\n",
    "Z = Z.reshape(xx.shape)\n",
    "plt.pcolormesh(xx, yy, Z, cmap=plt.cm.PRGn, vmin=-2, vmax=2)\n",
    "\n",
    "# Plot also the training points\n",
    "plt.plot(x[(y==1)*notsv,0], x[(y==1)*notsv,1], 'ro')\n",
    "plt.plot(x[(y==1)*sv,0], x[(y==1)*sv,1], 'ro', markersize=10)\n",
    "plt.plot(x[(y==2)*notsv,0], x[(y==2)*notsv,1], 'k^')\n",
    "plt.plot(x[(y==2)*sv,0], x[(y==2)*sv,1], 'k^', markersize=10)\n",
    "\n",
    "plt.xlim(x_min, x_max)\n",
    "plt.ylim(y_min, y_max)\n",
    "plt.show()"
   ]
  },
  {
   "cell_type": "code",
   "execution_count": 134,
   "metadata": {},
   "outputs": [
    {
     "data": {
      "text/plain": [
       "array([7. , 6.4, 6.9, 5.5, 6.5, 5.7, 6.3, 4.9, 6.6, 5.2, 5. , 5.9, 6. ,\n",
       "       6.1, 5.6, 6.7, 5.6, 5.8, 6.2, 5.6, 5.9, 6.1, 6.3, 6.1, 6.4, 6.6,\n",
       "       6.8, 6.7, 6. , 5.7, 5.5, 5.5, 5.8, 6. , 5.4, 6. , 6.7, 6.3, 5.6,\n",
       "       5.5, 5.5, 6.1, 5.8, 5. , 5.6, 5.7, 5.7, 6.2, 5.1, 5.7, 6.3, 5.8,\n",
       "       7.1, 6.3, 6.5, 7.6, 4.9, 7.3, 6.7, 7.2, 6.5, 6.4, 6.8, 5.7, 5.8,\n",
       "       6.4, 6.5, 7.7, 7.7, 6. , 6.9, 5.6, 7.7, 6.3, 6.7, 7.2, 6.2, 6.1,\n",
       "       6.4, 7.2, 7.4, 7.9, 6.4, 6.3, 6.1, 7.7, 6.3, 6.4, 6. , 6.9, 6.7,\n",
       "       6.9, 5.8, 6.8, 6.7, 6.7, 6.3, 6.5, 6.2, 5.9])"
      ]
     },
     "execution_count": 134,
     "metadata": {},
     "output_type": "execute_result"
    }
   ],
   "source": []
  },
  {
   "cell_type": "code",
   "execution_count": 135,
   "metadata": {},
   "outputs": [
    {
     "data": {
      "text/plain": [
       "array([4.7, 4.5, 4.9, 4. , 4.6, 4.5, 4.7, 3.3, 4.6, 3.9, 3.5, 4.2, 4. ,\n",
       "       4.7, 3.6, 4.4, 4.5, 4.1, 4.5, 3.9, 4.8, 4. , 4.9, 4.7, 4.3, 4.4,\n",
       "       4.8, 5. , 4.5, 3.5, 3.8, 3.7, 3.9, 5.1, 4.5, 4.5, 4.7, 4.4, 4.1,\n",
       "       4. , 4.4, 4.6, 4. , 3.3, 4.2, 4.2, 4.2, 4.3, 3. , 4.1, 6. , 5.1,\n",
       "       5.9, 5.6, 5.8, 6.6, 4.5, 6.3, 5.8, 6.1, 5.1, 5.3, 5.5, 5. , 5.1,\n",
       "       5.3, 5.5, 6.7, 6.9, 5. , 5.7, 4.9, 6.7, 4.9, 5.7, 6. , 4.8, 4.9,\n",
       "       5.6, 5.8, 6.1, 6.4, 5.6, 5.1, 5.6, 6.1, 5.6, 5.5, 4.8, 5.4, 5.6,\n",
       "       5.1, 5.1, 5.9, 5.7, 5.2, 5. , 5.2, 5.4, 5.1])"
      ]
     },
     "execution_count": 135,
     "metadata": {},
     "output_type": "execute_result"
    }
   ],
   "source": [
    "x[:,1]"
   ]
  },
  {
   "cell_type": "code",
   "execution_count": null,
   "metadata": {},
   "outputs": [],
   "source": []
  }
 ],
 "metadata": {
  "kernelspec": {
   "display_name": "Python 3",
   "language": "python",
   "name": "python3"
  },
  "language_info": {
   "codemirror_mode": {
    "name": "ipython",
    "version": 3
   },
   "file_extension": ".py",
   "mimetype": "text/x-python",
   "name": "python",
   "nbconvert_exporter": "python",
   "pygments_lexer": "ipython3",
   "version": "3.10.10"
  },
  "orig_nbformat": 4,
  "vscode": {
   "interpreter": {
    "hash": "9d1af5a4960a96d7621722435ce13e2a5fde01041db7fd0603c44397b4f28380"
   }
  }
 },
 "nbformat": 4,
 "nbformat_minor": 2
}
