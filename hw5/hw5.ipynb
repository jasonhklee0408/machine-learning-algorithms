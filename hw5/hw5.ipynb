{
 "cells": [
  {
   "cell_type": "code",
   "execution_count": 2,
   "metadata": {},
   "outputs": [],
   "source": [
    "import numpy as np\n",
    "import pandas as pd\n",
    "from sklearn.linear_model import LogisticRegression\n",
    "from sklearn.model_selection import train_test_split\n",
    "import matplotlib.pyplot as plt"
   ]
  },
  {
   "cell_type": "code",
   "execution_count": 29,
   "metadata": {},
   "outputs": [],
   "source": [
    "df = pd.read_csv(r\"C:\\Users\\jason\\Desktop\\cse 151a\\hw4\\heart.csv\")\n",
    "y = df['target']\n",
    "X = df.drop(columns = ['target'])\n",
    "X_train, X_test, y_train, y_test = train_test_split(X, y, train_size = 200, random_state=42)"
   ]
  },
  {
   "cell_type": "code",
   "execution_count": 32,
   "metadata": {},
   "outputs": [
    {
     "name": "stdout",
     "output_type": "stream",
     "text": [
      "0\n",
      "0\n",
      "0\n",
      "0\n",
      "0\n",
      "0\n",
      "0\n",
      "0\n",
      "0\n",
      "0\n",
      "0\n",
      "0\n",
      "0\n",
      "Iterations: 0\n"
     ]
    }
   ],
   "source": [
    "# Initialize model and initial error calculations\n",
    "model = LogisticRegression(max_iter=1000, penalty = 'none').fit(X_train, y_train)\n",
    "coefs = model.coef_\n",
    "\n",
    "pred = model.predict(X_test) \n",
    "error = np.sum(np.log(np.exp(((-y_test.values * np.matmul(model.coef_, X_test.values.T)) + model.intercept_[0])[0]) + 1))\n",
    "\n",
    "# Initialize lists to count iterations/losses/coordinate value\n",
    "iterations = 0\n",
    "losses = {}\n",
    "coordinate_descent = {}\n",
    "\n",
    "for i in range(len(coefs[0])):\n",
    "    coordinate_descent[X_test.columns[i]] = []\n",
    "    losses[X_test.columns[i]] = []\n",
    "    while True:\n",
    "        \n",
    "        lr = 0.00001\n",
    "        coefs = model.coef_\n",
    "        error = np.sum(np.log(np.exp(((-y_test.values * np.matmul(coefs, X_test.values.T)) + model.intercept_[0])[0]) + 1))\n",
    "        \n",
    "        # Update Step\n",
    "        update = lr* np.sum(X_test[X_test.columns[i]].values * np.min(model.predict_proba(X_test), axis = 1) * y_test.values)\n",
    "        coefs[0][i] -= update\n",
    "        model.coef_ = coefs\n",
    "\n",
    "        pred = model.predict(X_test)\n",
    "        print(iterations)\n",
    "\n",
    "        # Stopping condition (I used -0.001 as there is some rounding error that prevented it from breaking even though convergence is reached, this can be thought of ~0)\n",
    "        if np.sum(np.log(np.exp(((-y_test.values * np.matmul(model.coef_, X_test.values.T)) + model.intercept_[0])[0]) + 1))-error >=-0.001:\n",
    "            break\n",
    "        \n",
    "        # Appending to lists\n",
    "        coordinate_descent[X_test.columns[i]].append(coefs[0][i])\n",
    "        losses[X_test.columns[i]].append(error)\n",
    "        iterations +=1\n",
    "        \n",
    "print(f'Iterations: {iterations}')"
   ]
  },
  {
   "cell_type": "code",
   "execution_count": 27,
   "metadata": {},
   "outputs": [
    {
     "data": {
      "image/png": "[encoded data removed]",
      "text/plain": [
       "<Figure size 640x480 with 1 Axes>"
      ]
     },
     "metadata": {},
     "output_type": "display_data"
    }
   ],
   "source": [
    "plt.plot(range(len(losses['age'])), losses['age'], label = 'Losses')\n",
    "plt.plot(range(len(losses['age'])), coordinate_descent['age'], label = 'Coordinate')\n",
    "plt.legend(loc=\"upper left\")\n",
    "plt.show()"
   ]
  },
  {
   "cell_type": "code",
   "execution_count": null,
   "metadata": {},
   "outputs": [],
   "source": []
  }
 ],
 "metadata": {
  "kernelspec": {
   "display_name": "Python 3",
   "language": "python",
   "name": "python3"
  },
  "language_info": {
   "codemirror_mode": {
    "name": "ipython",
    "version": 3
   },
   "file_extension": ".py",
   "mimetype": "text/x-python",
   "name": "python",
   "nbconvert_exporter": "python",
   "pygments_lexer": "ipython3",
   "version": "3.10.10"
  },
  "orig_nbformat": 4,
  "vscode": {
   "interpreter": {
    "hash": "9d1af5a4960a96d7621722435ce13e2a5fde01041db7fd0603c44397b4f28380"
   }
  }
 },
 "nbformat": 4,
 "nbformat_minor": 2
}
