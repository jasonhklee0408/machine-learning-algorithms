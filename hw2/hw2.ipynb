{
 "cells": [
  {
   "cell_type": "code",
   "execution_count": 1,
   "metadata": {},
   "outputs": [],
   "source": [
    "import numpy as np \n",
    "import pandas as pd\n",
    "from sklearn.model_selection import LeaveOneOut\n",
    "from sklearn.neighbors import KNeighborsClassifier\n",
    "from sklearn.model_selection import KFold\n",
    "from sklearn.datasets import load_wine\n",
    "from sklearn import preprocessing\n",
    "import matplotlib.pyplot as plt \n",
    "wine = load_wine()\n",
    "data=pd.DataFrame(data = np.c_[wine['data'], wine['target']], columns=wine['feature_names']+['target'])"
   ]
  },
  {
   "cell_type": "code",
   "execution_count": 109,
   "metadata": {},
   "outputs": [],
   "source": [
    "y = data['target'].to_numpy()\n",
    "x = data.iloc[:,:-1].to_numpy()"
   ]
  },
  {
   "cell_type": "code",
   "execution_count": 92,
   "metadata": {},
   "outputs": [],
   "source": [
    "#11a LOOCV\n",
    "predictions = []\n",
    "cv = LeaveOneOut()\n",
    "for train_ix, test_ix in cv.split(x):\n",
    "    x_train, x_test = x[train_ix, :], x[test_ix, :]\n",
    "    y_train, y_test = y[train_ix], y[test_ix]\n",
    "    neigh = KNeighborsClassifier(n_neighbors=1)\n",
    "    neigh.fit(x_train, y_train)\n",
    "    yhat = neigh.predict(x_test)\n",
    "    predictions.append(yhat[0])\n"
   ]
  },
  {
   "cell_type": "code",
   "execution_count": 93,
   "metadata": {},
   "outputs": [
    {
     "data": {
      "text/plain": [
       "[[52, 3, 4], [5, 54, 12], [3, 14, 31]]"
      ]
     },
     "execution_count": 93,
     "metadata": {},
     "output_type": "execute_result"
    }
   ],
   "source": [
    "#11a confusion matrix \n",
    "actual = list(y)\n",
    "confusion_matrix = []\n",
    "for i in list(range(0,3)):\n",
    "    array = []\n",
    "    for j in list(range(0,3)):\n",
    "        counter = 0\n",
    "        for k in list(range(len(predictions))):\n",
    "            if actual[k] == i and predictions[k] == j:\n",
    "                counter = counter + 1\n",
    "        array.append(counter)\n",
    "    confusion_matrix.append(array)\n",
    "confusion_matrix"
   ]
  },
  {
   "cell_type": "code",
   "execution_count": 94,
   "metadata": {},
   "outputs": [
    {
     "data": {
      "text/plain": [
       "0.7696629213483146"
      ]
     },
     "execution_count": 94,
     "metadata": {},
     "output_type": "execute_result"
    }
   ],
   "source": [
    "#11a accuracy \n",
    "err_positions = np.not_equal(predictions, actual)\n",
    "error = float(len(err_positions) - np.sum(err_positions))/len(actual)\n",
    "error"
   ]
  },
  {
   "cell_type": "code",
   "execution_count": 112,
   "metadata": {},
   "outputs": [],
   "source": [
    "#11b kfold\n",
    "accuracy_list = []\n",
    "fold = []\n",
    "for i in range(2,100, 5):\n",
    "    kf = KFold(n_splits=i)\n",
    "    neigh = KNeighborsClassifier(n_neighbors=1)\n",
    "    localacc = []\n",
    "    for train_ix, test_ix in kf.split(x):\n",
    "        correct = 0\n",
    "        x_train, x_test = x[train_ix, :], x[test_ix, :]\n",
    "        y_train, y_test = y[train_ix], y[test_ix]\n",
    "\n",
    "        neigh.fit(x_train, y_train)\n",
    "        yhat = neigh.predict(x_test)\n",
    "        for n in range(len(y_test)):\n",
    "            if yhat[n] == y_test[n]:\n",
    "                correct = correct + 1\n",
    "        acc = correct/len(y_test)\n",
    "        localacc.append(acc)\n",
    "    fold.append(i)\n",
    "    accuracy_list.append(np.mean(localacc))"
   ]
  },
  {
   "cell_type": "code",
   "execution_count": 113,
   "metadata": {},
   "outputs": [
    {
     "data": {
      "text/plain": [
       "[<matplotlib.lines.Line2D at 0x1e885bae2f0>]"
      ]
     },
     "execution_count": 113,
     "metadata": {},
     "output_type": "execute_result"
    },
    {
     "data": {
      "image/png": "[encoded data removed]",
      "text/plain": [
       "<Figure size 640x480 with 1 Axes>"
      ]
     },
     "metadata": {},
     "output_type": "display_data"
    }
   ],
   "source": [
    "#11b kfold chart \n",
    "plt.plot(fold, accuracy_list)"
   ]
  },
  {
   "cell_type": "code",
   "execution_count": 125,
   "metadata": {},
   "outputs": [],
   "source": [
    "#11c scale \n",
    "min_max_scaler = preprocessing.MinMaxScaler()\n",
    "x_scaled = min_max_scaler.fit_transform(x)\n",
    "df = pd.DataFrame(x_scaled)\n",
    "df = df.to_numpy()"
   ]
  },
  {
   "cell_type": "code",
   "execution_count": 126,
   "metadata": {},
   "outputs": [],
   "source": [
    "#11c LOOCV \n",
    "predictions12 = []\n",
    "cv = LeaveOneOut()\n",
    "for train_ix, test_ix in cv.split(x):\n",
    "    x_train, x_test = df[train_ix, :], df[test_ix, :]\n",
    "    y_train, y_test = y[train_ix], y[test_ix]\n",
    "    neigh = KNeighborsClassifier(n_neighbors=1)\n",
    "    neigh.fit(x_train, y_train)\n",
    "    yhat = neigh.predict(x_test)\n",
    "    predictions12.append(yhat[0])"
   ]
  },
  {
   "cell_type": "code",
   "execution_count": 127,
   "metadata": {},
   "outputs": [
    {
     "data": {
      "text/plain": [
       "[[59, 0, 0], [5, 62, 4], [0, 0, 48]]"
      ]
     },
     "execution_count": 127,
     "metadata": {},
     "output_type": "execute_result"
    }
   ],
   "source": [
    "#11c confusion matrix \n",
    "actual = list(y)\n",
    "confusion_matrix2 = []\n",
    "for i in list(range(0,3)):\n",
    "    array = []\n",
    "    for j in list(range(0,3)):\n",
    "        counter = 0\n",
    "        for k in list(range(len(predictions12))):\n",
    "            if actual[k] == i and predictions12[k] == j:\n",
    "                counter = counter + 1\n",
    "        array.append(counter)\n",
    "    confusion_matrix2.append(array)\n",
    "confusion_matrix2"
   ]
  },
  {
   "cell_type": "code",
   "execution_count": 128,
   "metadata": {},
   "outputs": [
    {
     "data": {
      "text/plain": [
       "0.949438202247191"
      ]
     },
     "execution_count": 128,
     "metadata": {},
     "output_type": "execute_result"
    }
   ],
   "source": [
    "#11c accuracy \n",
    "err_positions = np.not_equal(predictions12, actual)\n",
    "error = float(len(err_positions) - np.sum(err_positions))/len(actual)\n",
    "error"
   ]
  },
  {
   "cell_type": "code",
   "execution_count": 2,
   "metadata": {},
   "outputs": [
    {
     "name": "stderr",
     "output_type": "stream",
     "text": [
      "C:\\Users\\jason\\AppData\\Local\\Temp\\ipykernel_28572\\1088047693.py:5: MatplotlibDeprecationWarning: The seaborn styles shipped by Matplotlib are deprecated since 3.6, as they no longer correspond to the styles shipped by seaborn. However, they will remain available as 'seaborn-v0_8-<style>'. Alternatively, directly use the seaborn API instead.\n",
      "  plt.style.use('seaborn-dark')\n"
     ]
    },
    {
     "data": {
      "image/png": "[encoded data removed]",
      "text/plain": [
       "<Figure size 1400x600 with 2 Axes>"
      ]
     },
     "metadata": {},
     "output_type": "display_data"
    }
   ],
   "source": [
    "import matplotlib.pyplot as plt\n",
    "from scipy.stats import multivariate_normal\n",
    " \n",
    " \n",
    "plt.style.use('seaborn-dark')\n",
    "plt.rcParams['figure.figsize']=14,6\n",
    " \n",
    "# Initializing the random seed\n",
    "random_seed=1000\n",
    " \n",
    "# List containing the variance\n",
    "# covariance values\n",
    "cov_val = [0, -0.75]\n",
    "variances  = [[9,1], [1,1]]\n",
    " \n",
    "mean = np.array([0,0])\n",
    "i = 0\n",
    "# Iterating over different covariance\n",
    "# values\n",
    "for idx, val in enumerate(cov_val):\n",
    "    plt.subplot(1,3,idx+1)\n",
    "     \n",
    "    # Initializing the covariance matrix\n",
    "    \n",
    "    cov = np.array([[variances[i][0], val], [val, variances[i][1]]])\n",
    "     \n",
    "    # Generating a Gaussian bivariate distribution\n",
    "    # with given mean and covariance matrix\n",
    "    distr = multivariate_normal(cov = cov, mean = mean,\n",
    "                                seed = random_seed)\n",
    "     \n",
    "    # Generating 5000 samples out of the\n",
    "    # distribution\n",
    "    data = distr.rvs(size = 100)\n",
    "     \n",
    "    # Plotting the generated samples\n",
    "    plt.plot(data[:,0],data[:,1], 'o', c='lime',\n",
    "             markeredgewidth = 0.5,\n",
    "             markeredgecolor = 'black')\n",
    "    plt.title(f'Covariance between x1 and x2 = {val}')\n",
    "    plt.xlabel('x1')\n",
    "    plt.ylabel('x2')\n",
    "    plt.axis('equal')\n",
    "    i += 1\n",
    "     \n",
    "plt.show()"
   ]
  },
  {
   "cell_type": "code",
   "execution_count": null,
   "metadata": {},
   "outputs": [],
   "source": []
  }
 ],
 "metadata": {
  "kernelspec": {
   "display_name": "Python 3",
   "language": "python",
   "name": "python3"
  },
  "language_info": {
   "codemirror_mode": {
    "name": "ipython",
    "version": 3
   },
   "file_extension": ".py",
   "mimetype": "text/x-python",
   "name": "python",
   "nbconvert_exporter": "python",
   "pygments_lexer": "ipython3",
   "version": "3.10.9"
  },
  "orig_nbformat": 4,
  "vscode": {
   "interpreter": {
    "hash": "9d1af5a4960a96d7621722435ce13e2a5fde01041db7fd0603c44397b4f28380"
   }
  }
 },
 "nbformat": 4,
 "nbformat_minor": 2
}
